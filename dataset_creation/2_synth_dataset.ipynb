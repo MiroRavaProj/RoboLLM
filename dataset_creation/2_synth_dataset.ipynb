{
 "cells": [
  {
   "cell_type": "code",
   "execution_count": 1,
   "id": "bb6bf876-2014-4c91-8e1f-0d69b5db7c3e",
   "metadata": {},
   "outputs": [],
   "source": [
    "import json"
   ]
  },
  {
   "cell_type": "markdown",
   "id": "ede34ec1-c70e-4c2a-9a30-b597e6772515",
   "metadata": {},
   "source": [
    "### 1. create the structure of the dataset (context_qa type)"
   ]
  },
  {
   "cell_type": "code",
   "execution_count": 2,
   "id": "980114cb-9ca2-43ab-a13e-43443bd62e55",
   "metadata": {},
   "outputs": [],
   "source": [
    "def get_dictonary(c,q):\n",
    "    dictionary = {\n",
    "        \"context\":\"table(\"+c+\")\",\n",
    "        \"question\":q['question'],\n",
    "        \"answer\":q['answer'],\n",
    "    }\n",
    "    return dictionary"
   ]
  },
  {
   "cell_type": "markdown",
   "id": "537fb1be-e693-4442-a623-ea477e0d9fc8",
   "metadata": {},
   "source": [
    "### 2. Synthetic data\n",
    "A simple example: to automate the process, you should randomly generate object poses."
   ]
  },
  {
   "cell_type": "code",
   "execution_count": null,
   "id": "93c72e0c",
   "metadata": {},
   "outputs": [
    {
     "ename": "KeyboardInterrupt",
     "evalue": "",
     "output_type": "error",
     "traceback": [
      "\u001b[0;31m---------------------------------------------------------------------------\u001b[0m",
      "\u001b[0;31mKeyboardInterrupt\u001b[0m                         Traceback (most recent call last)",
      "Cell \u001b[0;32mIn[3], line 76\u001b[0m\n\u001b[1;32m     73\u001b[0m     \u001b[38;5;28;01mreturn\u001b[39;00m questions_and_answers\n\u001b[1;32m     75\u001b[0m \u001b[38;5;66;03m# Generate the dataset and question-answer pairs\u001b[39;00m\n\u001b[0;32m---> 76\u001b[0m final_data \u001b[38;5;241m=\u001b[39m \u001b[43mgenerate_dataset_and_qa\u001b[49m\u001b[43m(\u001b[49m\u001b[43m)\u001b[49m\n\u001b[1;32m     78\u001b[0m \u001b[38;5;66;03m# Example: Print the first entry\u001b[39;00m\n\u001b[1;32m     79\u001b[0m \u001b[38;5;28mprint\u001b[39m(final_data)\n",
      "Cell \u001b[0;32mIn[3], line 15\u001b[0m, in \u001b[0;36mgenerate_dataset_and_qa\u001b[0;34m()\u001b[0m\n\u001b[1;32m     12\u001b[0m \u001b[38;5;66;03m# Generate dataset with object positions and process them in a single loop\u001b[39;00m\n\u001b[1;32m     13\u001b[0m \u001b[38;5;28;01mfor\u001b[39;00m _ \u001b[38;5;129;01min\u001b[39;00m \u001b[38;5;28mrange\u001b[39m(\u001b[38;5;241m10000000\u001b[39m):  \u001b[38;5;66;03m# Repeat 1mln times\u001b[39;00m\n\u001b[1;32m     14\u001b[0m     \u001b[38;5;66;03m# Generate positions for each object\u001b[39;00m\n\u001b[0;32m---> 15\u001b[0m     objects \u001b[38;5;241m=\u001b[39m \u001b[43m[\u001b[49m\n\u001b[1;32m     16\u001b[0m \u001b[43m        \u001b[49m\u001b[43m{\u001b[49m\n\u001b[1;32m     17\u001b[0m \u001b[43m            \u001b[49m\u001b[38;5;124;43m\"\u001b[39;49m\u001b[38;5;124;43mname\u001b[39;49m\u001b[38;5;124;43m\"\u001b[39;49m\u001b[43m:\u001b[49m\u001b[43m \u001b[49m\u001b[43mname\u001b[49m\u001b[43m,\u001b[49m\n\u001b[1;32m     18\u001b[0m \u001b[43m            \u001b[49m\u001b[38;5;124;43m\"\u001b[39;49m\u001b[38;5;124;43mx\u001b[39;49m\u001b[38;5;124;43m\"\u001b[39;49m\u001b[43m:\u001b[49m\u001b[43m \u001b[49m\u001b[43mrandom\u001b[49m\u001b[38;5;241;43m.\u001b[39;49m\u001b[43mrandint\u001b[49m\u001b[43m(\u001b[49m\u001b[38;5;241;43m-\u001b[39;49m\u001b[38;5;241;43m500\u001b[39;49m\u001b[43m,\u001b[49m\u001b[43m \u001b[49m\u001b[38;5;241;43m500\u001b[39;49m\u001b[43m)\u001b[49m\u001b[43m,\u001b[49m\n\u001b[1;32m     19\u001b[0m \u001b[43m            \u001b[49m\u001b[38;5;124;43m\"\u001b[39;49m\u001b[38;5;124;43my\u001b[39;49m\u001b[38;5;124;43m\"\u001b[39;49m\u001b[43m:\u001b[49m\u001b[43m \u001b[49m\u001b[43mrandom\u001b[49m\u001b[38;5;241;43m.\u001b[39;49m\u001b[43mrandint\u001b[49m\u001b[43m(\u001b[49m\u001b[38;5;241;43m-\u001b[39;49m\u001b[38;5;241;43m500\u001b[39;49m\u001b[43m,\u001b[49m\u001b[43m \u001b[49m\u001b[38;5;241;43m500\u001b[39;49m\u001b[43m)\u001b[49m\u001b[43m,\u001b[49m\n\u001b[1;32m     20\u001b[0m \u001b[43m            \u001b[49m\u001b[38;5;124;43m\"\u001b[39;49m\u001b[38;5;124;43mz\u001b[39;49m\u001b[38;5;124;43m\"\u001b[39;49m\u001b[43m:\u001b[49m\u001b[43m \u001b[49m\u001b[43mrandom\u001b[49m\u001b[38;5;241;43m.\u001b[39;49m\u001b[43mrandint\u001b[49m\u001b[43m(\u001b[49m\u001b[38;5;241;43m0\u001b[39;49m\u001b[43m,\u001b[49m\u001b[43m \u001b[49m\u001b[38;5;241;43m500\u001b[39;49m\u001b[43m)\u001b[49m\u001b[43m,\u001b[49m\n\u001b[1;32m     21\u001b[0m \u001b[43m        \u001b[49m\u001b[43m}\u001b[49m\n\u001b[1;32m     22\u001b[0m \u001b[43m        \u001b[49m\u001b[38;5;28;43;01mfor\u001b[39;49;00m\u001b[43m \u001b[49m\u001b[43mname\u001b[49m\u001b[43m \u001b[49m\u001b[38;5;129;43;01min\u001b[39;49;00m\u001b[43m \u001b[49m\u001b[43mobject_names\u001b[49m\n\u001b[1;32m     23\u001b[0m \u001b[43m    \u001b[49m\u001b[43m]\u001b[49m\n\u001b[1;32m     25\u001b[0m     \u001b[38;5;66;03m# Generate the context for this set of objects\u001b[39;00m\n\u001b[1;32m     26\u001b[0m     context \u001b[38;5;241m=\u001b[39m \u001b[38;5;124m\"\u001b[39m\u001b[38;5;124m; \u001b[39m\u001b[38;5;124m\"\u001b[39m\u001b[38;5;241m.\u001b[39mjoin(\u001b[38;5;124mf\u001b[39m\u001b[38;5;124m\"\u001b[39m\u001b[38;5;132;01m{\u001b[39;00mobj[\u001b[38;5;124m'\u001b[39m\u001b[38;5;124mname\u001b[39m\u001b[38;5;124m'\u001b[39m]\u001b[38;5;132;01m}\u001b[39;00m\u001b[38;5;124m x: \u001b[39m\u001b[38;5;132;01m{\u001b[39;00mobj[\u001b[38;5;124m'\u001b[39m\u001b[38;5;124mx\u001b[39m\u001b[38;5;124m'\u001b[39m]\u001b[38;5;132;01m}\u001b[39;00m\u001b[38;5;124m, y: \u001b[39m\u001b[38;5;132;01m{\u001b[39;00mobj[\u001b[38;5;124m'\u001b[39m\u001b[38;5;124my\u001b[39m\u001b[38;5;124m'\u001b[39m]\u001b[38;5;132;01m}\u001b[39;00m\u001b[38;5;124m, z: \u001b[39m\u001b[38;5;132;01m{\u001b[39;00mobj[\u001b[38;5;124m'\u001b[39m\u001b[38;5;124mz\u001b[39m\u001b[38;5;124m'\u001b[39m]\u001b[38;5;132;01m}\u001b[39;00m\u001b[38;5;124m\"\u001b[39m \u001b[38;5;28;01mfor\u001b[39;00m obj \u001b[38;5;129;01min\u001b[39;00m objects) \u001b[38;5;241m+\u001b[39m \u001b[38;5;124m\"\u001b[39m\u001b[38;5;124m;\u001b[39m\u001b[38;5;124m\"\u001b[39m\n",
      "Cell \u001b[0;32mIn[3], line 19\u001b[0m, in \u001b[0;36m<listcomp>\u001b[0;34m(.0)\u001b[0m\n\u001b[1;32m     12\u001b[0m \u001b[38;5;66;03m# Generate dataset with object positions and process them in a single loop\u001b[39;00m\n\u001b[1;32m     13\u001b[0m \u001b[38;5;28;01mfor\u001b[39;00m _ \u001b[38;5;129;01min\u001b[39;00m \u001b[38;5;28mrange\u001b[39m(\u001b[38;5;241m10000000\u001b[39m):  \u001b[38;5;66;03m# Repeat 1mln times\u001b[39;00m\n\u001b[1;32m     14\u001b[0m     \u001b[38;5;66;03m# Generate positions for each object\u001b[39;00m\n\u001b[1;32m     15\u001b[0m     objects \u001b[38;5;241m=\u001b[39m [\n\u001b[1;32m     16\u001b[0m         {\n\u001b[1;32m     17\u001b[0m             \u001b[38;5;124m\"\u001b[39m\u001b[38;5;124mname\u001b[39m\u001b[38;5;124m\"\u001b[39m: name,\n\u001b[1;32m     18\u001b[0m             \u001b[38;5;124m\"\u001b[39m\u001b[38;5;124mx\u001b[39m\u001b[38;5;124m\"\u001b[39m: random\u001b[38;5;241m.\u001b[39mrandint(\u001b[38;5;241m-\u001b[39m\u001b[38;5;241m500\u001b[39m, \u001b[38;5;241m500\u001b[39m),\n\u001b[0;32m---> 19\u001b[0m             \u001b[38;5;124m\"\u001b[39m\u001b[38;5;124my\u001b[39m\u001b[38;5;124m\"\u001b[39m: \u001b[43mrandom\u001b[49m\u001b[38;5;241;43m.\u001b[39;49m\u001b[43mrandint\u001b[49m\u001b[43m(\u001b[49m\u001b[38;5;241;43m-\u001b[39;49m\u001b[38;5;241;43m500\u001b[39;49m\u001b[43m,\u001b[49m\u001b[43m \u001b[49m\u001b[38;5;241;43m500\u001b[39;49m\u001b[43m)\u001b[49m,\n\u001b[1;32m     20\u001b[0m             \u001b[38;5;124m\"\u001b[39m\u001b[38;5;124mz\u001b[39m\u001b[38;5;124m\"\u001b[39m: random\u001b[38;5;241m.\u001b[39mrandint(\u001b[38;5;241m0\u001b[39m, \u001b[38;5;241m500\u001b[39m),\n\u001b[1;32m     21\u001b[0m         }\n\u001b[1;32m     22\u001b[0m         \u001b[38;5;28;01mfor\u001b[39;00m name \u001b[38;5;129;01min\u001b[39;00m object_names\n\u001b[1;32m     23\u001b[0m     ]\n\u001b[1;32m     25\u001b[0m     \u001b[38;5;66;03m# Generate the context for this set of objects\u001b[39;00m\n\u001b[1;32m     26\u001b[0m     context \u001b[38;5;241m=\u001b[39m \u001b[38;5;124m\"\u001b[39m\u001b[38;5;124m; \u001b[39m\u001b[38;5;124m\"\u001b[39m\u001b[38;5;241m.\u001b[39mjoin(\u001b[38;5;124mf\u001b[39m\u001b[38;5;124m\"\u001b[39m\u001b[38;5;132;01m{\u001b[39;00mobj[\u001b[38;5;124m'\u001b[39m\u001b[38;5;124mname\u001b[39m\u001b[38;5;124m'\u001b[39m]\u001b[38;5;132;01m}\u001b[39;00m\u001b[38;5;124m x: \u001b[39m\u001b[38;5;132;01m{\u001b[39;00mobj[\u001b[38;5;124m'\u001b[39m\u001b[38;5;124mx\u001b[39m\u001b[38;5;124m'\u001b[39m]\u001b[38;5;132;01m}\u001b[39;00m\u001b[38;5;124m, y: \u001b[39m\u001b[38;5;132;01m{\u001b[39;00mobj[\u001b[38;5;124m'\u001b[39m\u001b[38;5;124my\u001b[39m\u001b[38;5;124m'\u001b[39m]\u001b[38;5;132;01m}\u001b[39;00m\u001b[38;5;124m, z: \u001b[39m\u001b[38;5;132;01m{\u001b[39;00mobj[\u001b[38;5;124m'\u001b[39m\u001b[38;5;124mz\u001b[39m\u001b[38;5;124m'\u001b[39m]\u001b[38;5;132;01m}\u001b[39;00m\u001b[38;5;124m\"\u001b[39m \u001b[38;5;28;01mfor\u001b[39;00m obj \u001b[38;5;129;01min\u001b[39;00m objects) \u001b[38;5;241m+\u001b[39m \u001b[38;5;124m\"\u001b[39m\u001b[38;5;124m;\u001b[39m\u001b[38;5;124m\"\u001b[39m\n",
      "File \u001b[0;32m/Library/Frameworks/Python.framework/Versions/3.11/lib/python3.11/random.py:362\u001b[0m, in \u001b[0;36mRandom.randint\u001b[0;34m(self, a, b)\u001b[0m\n\u001b[1;32m    358\u001b[0m \u001b[38;5;28;01mdef\u001b[39;00m \u001b[38;5;21mrandint\u001b[39m(\u001b[38;5;28mself\u001b[39m, a, b):\n\u001b[1;32m    359\u001b[0m \u001b[38;5;250m    \u001b[39m\u001b[38;5;124;03m\"\"\"Return random integer in range [a, b], including both end points.\u001b[39;00m\n\u001b[1;32m    360\u001b[0m \u001b[38;5;124;03m    \"\"\"\u001b[39;00m\n\u001b[0;32m--> 362\u001b[0m     \u001b[38;5;28;01mreturn\u001b[39;00m \u001b[38;5;28;43mself\u001b[39;49m\u001b[38;5;241;43m.\u001b[39;49m\u001b[43mrandrange\u001b[49m\u001b[43m(\u001b[49m\u001b[43ma\u001b[49m\u001b[43m,\u001b[49m\u001b[43m \u001b[49m\u001b[43mb\u001b[49m\u001b[38;5;241;43m+\u001b[39;49m\u001b[38;5;241;43m1\u001b[39;49m\u001b[43m)\u001b[49m\n",
      "File \u001b[0;32m/Library/Frameworks/Python.framework/Versions/3.11/lib/python3.11/random.py:344\u001b[0m, in \u001b[0;36mRandom.randrange\u001b[0;34m(self, start, stop, step)\u001b[0m\n\u001b[1;32m    342\u001b[0m \u001b[38;5;28;01mif\u001b[39;00m istep \u001b[38;5;241m==\u001b[39m \u001b[38;5;241m1\u001b[39m:\n\u001b[1;32m    343\u001b[0m     \u001b[38;5;28;01mif\u001b[39;00m width \u001b[38;5;241m>\u001b[39m \u001b[38;5;241m0\u001b[39m:\n\u001b[0;32m--> 344\u001b[0m         \u001b[38;5;28;01mreturn\u001b[39;00m istart \u001b[38;5;241m+\u001b[39m \u001b[38;5;28;43mself\u001b[39;49m\u001b[38;5;241;43m.\u001b[39;49m\u001b[43m_randbelow\u001b[49m\u001b[43m(\u001b[49m\u001b[43mwidth\u001b[49m\u001b[43m)\u001b[49m\n\u001b[1;32m    345\u001b[0m     \u001b[38;5;28;01mraise\u001b[39;00m \u001b[38;5;167;01mValueError\u001b[39;00m(\u001b[38;5;124m\"\u001b[39m\u001b[38;5;124mempty range for randrange() (\u001b[39m\u001b[38;5;132;01m%d\u001b[39;00m\u001b[38;5;124m, \u001b[39m\u001b[38;5;132;01m%d\u001b[39;00m\u001b[38;5;124m, \u001b[39m\u001b[38;5;132;01m%d\u001b[39;00m\u001b[38;5;124m)\u001b[39m\u001b[38;5;124m\"\u001b[39m \u001b[38;5;241m%\u001b[39m (istart, istop, width))\n\u001b[1;32m    347\u001b[0m \u001b[38;5;66;03m# Non-unit step argument supplied.\u001b[39;00m\n",
      "File \u001b[0;32m/Library/Frameworks/Python.framework/Versions/3.11/lib/python3.11/random.py:235\u001b[0m, in \u001b[0;36mRandom._randbelow_with_getrandbits\u001b[0;34m(self, n)\u001b[0m\n\u001b[1;32m    232\u001b[0m             \u001b[38;5;28mcls\u001b[39m\u001b[38;5;241m.\u001b[39m_randbelow \u001b[38;5;241m=\u001b[39m \u001b[38;5;28mcls\u001b[39m\u001b[38;5;241m.\u001b[39m_randbelow_without_getrandbits\n\u001b[1;32m    233\u001b[0m             \u001b[38;5;28;01mbreak\u001b[39;00m\n\u001b[0;32m--> 235\u001b[0m \u001b[38;5;28;01mdef\u001b[39;00m \u001b[38;5;21m_randbelow_with_getrandbits\u001b[39m(\u001b[38;5;28mself\u001b[39m, n):\n\u001b[1;32m    236\u001b[0m     \u001b[38;5;124m\"\u001b[39m\u001b[38;5;124mReturn a random int in the range [0,n).  Defined for n > 0.\u001b[39m\u001b[38;5;124m\"\u001b[39m\n\u001b[1;32m    238\u001b[0m     getrandbits \u001b[38;5;241m=\u001b[39m \u001b[38;5;28mself\u001b[39m\u001b[38;5;241m.\u001b[39mgetrandbits\n",
      "\u001b[0;31mKeyboardInterrupt\u001b[0m: "
     ]
    }
   ],
   "source": [
    "import random\n",
    "\n",
    "def generate_dataset_and_qa():\n",
    "    # Define object names\n",
    "    fruit = [\"apple\", \"banana\", \"pear\", \"melon\"]\n",
    "    recipient = [\"cup\", \"bowl\", \"box\", \"basket\"]\n",
    "    object_names = fruit + recipient\n",
    "\n",
    "    # Initialize a list to store the final questions and answers\n",
    "    questions_and_answers = []\n",
    "\n",
    "    # Generate dataset with object positions and process them in a single loop\n",
    "    for _ in range(1000000):  # Repeat 1mln times\n",
    "        # Generate positions for each object\n",
    "        objects = [\n",
    "            {\n",
    "                \"name\": name,\n",
    "                \"x\": random.randint(-500, 500),\n",
    "                \"y\": random.randint(-500, 500),\n",
    "                \"z\": random.randint(0, 500),\n",
    "            }\n",
    "            for name in object_names\n",
    "        ]\n",
    "\n",
    "        # Generate the context for this set of objects\n",
    "        context = \"; \".join(f\"{obj['name']} x: {obj['x']}, y: {obj['y']}, z: {obj['z']}\" for obj in objects) + \";\"\n",
    "\n",
    "        # Generate two types of questions and answers for each set of objects\n",
    "        obj1 = random.choice(objects)\n",
    "        obj2 = random.choice(objects)\n",
    "        \n",
    "        # Ensure obj1 and obj2 are not the same and obj2 is not a recipient\n",
    "        while obj2['name'] in recipient or obj1 == obj2:\n",
    "            obj2 = random.choice(objects)\n",
    "\n",
    "        x_a, y_a, z_a = obj1['x'], obj1['y'], obj1['z']\n",
    "        x_c, y_c, z_c = obj2['x'], obj2['y'], obj2['z']\n",
    "\n",
    "        # Question 1: Pick object O1 and place it next to O2\n",
    "        q1 = f\"Pick the object {obj1['name']} and place next to the {obj2['name']}.\"\n",
    "        a1 = (\n",
    "            f\"go to x: {x_a}, y: {y_a}, z: {z_a}+30; \"\n",
    "            f\"go to x: {x_a}, y: {y_a}, z: {z_a}; \"\n",
    "            f\"close the gripper; \"\n",
    "            f\"go to x: {x_c}+10, y: {y_c}, z: {z_c}+10; \"\n",
    "            f\"open the gripper; \"\n",
    "            \"go home;\"\n",
    "        )\n",
    "        if obj1['name'] in recipient:\n",
    "            a1 = f\"This task cannot be performed as {obj1['name']} is a recipient.\"\n",
    "\n",
    "        # Ensure obj2 is not a fruit for Question 2\n",
    "        while obj2['name'] in fruit or obj1 == obj2:\n",
    "            obj2 = random.choice(objects)\n",
    "            x_c, y_c, z_c = obj2['x'], obj2['y'], obj2['z']\n",
    "\n",
    "        # Question 2: Pick object O1 and place it in O2\n",
    "        q2 = f\"Pick the object {obj1['name']} and place it in the {obj2['name']}.\"\n",
    "        a2 = (\n",
    "            f\"go to x: {x_a}, y: {y_a}, z: {z_a}+30; \"\n",
    "            f\"go to x: {x_a}, y: {y_a}, z: {z_a}; \"\n",
    "            f\"close the gripper; \"\n",
    "            f\"go to x: {x_c}, y: {y_c}, z: {z_c}+10; \"\n",
    "            f\"open the gripper; \"\n",
    "            \"go home;\"\n",
    "        )\n",
    "\n",
    "        q, a = random.choice([(q1, a1), (q2, a2)])\n",
    "        qa = get_dictonary(context, {\"question\": q, \"answer\": a})\n",
    "\n",
    "        questions_and_answers.append(qa)\n",
    "\n",
    "    return questions_and_answers\n",
    "\n",
    "# Generate the dataset and question-answer pairs\n",
    "final_data = generate_dataset_and_qa()\n",
    "\n",
    "# Example: Print the first entry\n",
    "print(final_data)"
   ]
  },
  {
   "cell_type": "code",
   "execution_count": null,
   "id": "442961f1",
   "metadata": {},
   "outputs": [],
   "source": [
    "# save in json file\n",
    "with open('data.json', 'w') as f:\n",
    "    json.dump(final_data, f, indent=4)\n",
    "\n",
    "\n",
    "# Load the json file\n",
    "with open('data.json', 'r') as f:\n",
    "    data = json.load(f)"
   ]
  },
  {
   "cell_type": "code",
   "execution_count": null,
   "id": "b1668731",
   "metadata": {},
   "outputs": [],
   "source": []
  },
  {
   "cell_type": "markdown",
   "id": "8690f9c1-47e8-4efb-ac60-bd1469b48315",
   "metadata": {},
   "source": [
    "### 5. Login to HuggingFace"
   ]
  },
  {
   "cell_type": "code",
   "execution_count": null,
   "id": "79eb6f8e-d0d3-4760-b5f6-1fa662e15910",
   "metadata": {},
   "outputs": [
    {
     "name": "stderr",
     "output_type": "stream",
     "text": [
      "/miniconda/lib/python3.12/site-packages/tqdm/auto.py:21: TqdmWarning: IProgress not found. Please update jupyter and ipywidgets. See https://ipywidgets.readthedocs.io/en/stable/user_install.html\n",
      "  from .autonotebook import tqdm as notebook_tqdm\n"
     ]
    },
    {
     "name": "stdout",
     "output_type": "stream",
     "text": [
      "The token has not been saved to the git credentials helper. Pass `add_to_git_credential=True` in this function directly or `--add-to-git-credential` if using via `huggingface-cli` if you want to set the git credential as well.\n",
      "Token is valid (permission: fineGrained).\n",
      "Your token has been saved to /root/.cache/huggingface/token\n",
      "Login successful\n"
     ]
    }
   ],
   "source": [
    "access_token = \"secret\"\n",
    "from huggingface_hub import login\n",
    "login(token=access_token)"
   ]
  },
  {
   "cell_type": "markdown",
   "id": "99796baa-0d52-497c-b6b5-5001d45f3ea3",
   "metadata": {},
   "source": [
    "### 6. Upload the dataset to HuggingFace"
   ]
  },
  {
   "cell_type": "code",
   "execution_count": 12,
   "id": "3dac2b2f-d22a-47b9-8101-fa957675fd71",
   "metadata": {},
   "outputs": [
    {
     "name": "stderr",
     "output_type": "stream",
     "text": [
      "Generating train split: 1 examples [00:00, 113.42 examples/s]\n"
     ]
    }
   ],
   "source": [
    "import datasets\n",
    "from datasets import load_dataset\n",
    "dataset = load_dataset('json', data_files='train.json')\n",
    "dataset.push_to_hub(\"marcomaccarini/test_lab\")"
   ]
  }
 ],
 "metadata": {
  "kernelspec": {
   "display_name": "Python 3",
   "language": "python",
   "name": "python3"
  },
  "language_info": {
   "codemirror_mode": {
    "name": "ipython",
    "version": 3
   },
   "file_extension": ".py",
   "mimetype": "text/x-python",
   "name": "python",
   "nbconvert_exporter": "python",
   "pygments_lexer": "ipython3",
   "version": "3.11.1"
  }
 },
 "nbformat": 4,
 "nbformat_minor": 5
}
